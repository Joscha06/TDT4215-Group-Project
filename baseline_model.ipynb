{
 "cells": [
  {
   "cell_type": "markdown",
   "metadata": {
    "vscode": {
     "languageId": "plaintext"
    }
   },
   "source": [
    "# Import necessary libraries"
   ]
  },
  {
   "cell_type": "code",
   "execution_count": 53,
   "metadata": {},
   "outputs": [],
   "source": [
    "from pathlib import Path\n",
    "import os\n",
    "import pandas as pd\n",
    "from collections import Counter, deque\n",
    "import time\n",
    "import json\n",
    "import zipfile"
   ]
  },
  {
   "cell_type": "markdown",
   "metadata": {},
   "source": [
    "# Read the data"
   ]
  },
  {
   "cell_type": "code",
   "execution_count": 54,
   "metadata": {},
   "outputs": [],
   "source": [
    "# Defining column names\n",
    "col_behaviors = ['ImpressionId', 'User', 'Time', 'History', 'Impressions']\n",
    "col_news = ['NewsId', 'Category', 'SubCat', 'Title', 'Abstract', 'url', 'TitleEnt', 'AbstractEnt']\n",
    "\n",
    "# Read TSV files with Pandas\n",
    "behaviors_train = pd.read_csv(\"data/train/behaviors.tsv\", sep=\"\\t\", header=None, names=col_behaviors)\n",
    "news_train = pd.read_csv(\"data/train/news.tsv\", sep=\"\\t\", header=None, names=col_news)\n",
    "\n",
    "behaviors_val = pd.read_csv(\"data/validation/behaviors.tsv\", sep=\"\\t\", header=None, names=col_behaviors)\n",
    "news_val = pd.read_csv(\"data/validation/news.tsv\", sep=\"\\t\", header=None, names=col_news)\n",
    "\n",
    "behaviors_test = pd.read_csv(\"data/test/behaviors.tsv\", sep=\"\\t\", header=None, names=col_behaviors)\n",
    "news_test = pd.read_csv(\"data/test/news.tsv\", sep=\"\\t\", header=None, names=col_news)\n",
    "\n",
    "# zip train and val files\n",
    "behaviors_train_val = pd.concat([behaviors_train, behaviors_val])\n",
    "news_train_val = pd.concat([news_train, news_val])\n",
    "\n",
    "# Convert time column to timestamp and sort by time\n",
    "behaviors_train_val['Timestamp'] = behaviors_train_val['Time'].apply(lambda x: time.mktime(time.strptime(x, \"%m/%d/%Y %I:%M:%S %p\")))\n",
    "behaviors_train_val = behaviors_train_val.sort_values(by='Timestamp')\n",
    "\n",
    "# Convert time column to timestamp and sort by time\n",
    "behaviors_val['Timestamp'] = behaviors_val['Time'].apply(lambda x: time.mktime(time.strptime(x, \"%m/%d/%Y %I:%M:%S %p\")))\n",
    "behaviors_val = behaviors_val.sort_values(by='Timestamp')\n",
    "\n"
   ]
  },
  {
   "cell_type": "code",
   "execution_count": 55,
   "metadata": {},
   "outputs": [],
   "source": [
    "# transform date column to datetime\n",
    "# behaviors_train['Time'] = pd.to_datetime(behaviors_train['Time'])\n",
    "# behaviors_val['Time'] = pd.to_datetime(behaviors_val['Time'])\n",
    "# behaviors_test['Time'] = pd.to_datetime(behaviors_test['Time'])"
   ]
  },
  {
   "cell_type": "markdown",
   "metadata": {},
   "source": [
    "# Implement baseline model"
   ]
  },
  {
   "cell_type": "code",
   "execution_count": 56,
   "metadata": {},
   "outputs": [],
   "source": [
    "# Dictionary to store news clicks with timestamps\n",
    "news_clicks = {}\n",
    "TIME_WINDOW = 86400  # Keep clicks from the last 24 hours (86400 seconds)"
   ]
  },
  {
   "cell_type": "code",
   "execution_count": 57,
   "metadata": {},
   "outputs": [],
   "source": [
    "# get time of first impression\n",
    "first_impression_time = behaviors_val.iloc[0]['Timestamp']\n",
    "# remove all rows that are more than 24 hours before first impression or after first impression\n",
    "behaviors_train_val = behaviors_train_val[(behaviors_train_val['Timestamp'] >= first_impression_time - TIME_WINDOW) & (behaviors_train_val['Timestamp'] < first_impression_time)]\n",
    "\n",
    "# build news_clicks dictionary of 24 hours before first impression\n",
    "for idx, row in behaviors_train_val.iterrows():\n",
    "    if row['Impressions'] != '-':\n",
    "\n",
    "        for news_id in row['Impressions'].split():\n",
    "            news_id = news_id.split('-')[0]\n",
    "            if news_id not in news_clicks:\n",
    "                news_clicks[news_id] = deque()\n",
    "            news_clicks[news_id].append(row['Timestamp'])\n"
   ]
  },
  {
   "cell_type": "code",
   "execution_count": 58,
   "metadata": {},
   "outputs": [],
   "source": [
    "def rank_news(user_impressions):\n",
    "    news_rank = []\n",
    "    for news_id in user_impressions:\n",
    "        if news_id in news_clicks:\n",
    "            news_rank.append((news_id, len(news_clicks[news_id])))\n",
    "        else:\n",
    "            news_rank.append((news_id, 0))\n",
    "    news_rank.sort(key=lambda x: x[1], reverse=True)\n",
    "    return [news_id for news_id, _ in news_rank]\n",
    "\n",
    "def rank_submission_format(user_impressions):\n",
    "    ranked_news = rank_news(user_impressions)\n",
    "    submission = []\n",
    "    for news_id in user_impressions:\n",
    "        submission.append(ranked_news.index(news_id) + 1)\n",
    "    return submission\n",
    "\n"
   ]
  },
  {
   "cell_type": "code",
   "execution_count": 59,
   "metadata": {},
   "outputs": [],
   "source": [
    "def rank_news(user_impressions):\n",
    "    news_rank = []\n",
    "    for news_id in user_impressions:\n",
    "        if news_id in news_clicks:\n",
    "            news_rank.append((news_id, len(news_clicks[news_id])))\n",
    "        else:\n",
    "            news_rank.append((news_id, 0))\n",
    "    news_rank.sort(key=lambda x: x[1], reverse=True)\n",
    "    return [news_id for news_id, _ in news_rank]\n",
    "\n",
    "def rank_submission_format(user_impressions):\n",
    "    ranked_news = rank_news(user_impressions)\n",
    "    submission = []\n",
    "    for news_id in user_impressions:\n",
    "        submission.append(ranked_news.index(news_id) + 1)\n",
    "    return submission\n",
    "\n"
   ]
  },
  {
   "cell_type": "code",
   "execution_count": null,
   "metadata": {},
   "outputs": [
    {
     "name": "stdout",
     "output_type": "stream",
     "text": [
      "✅ Prediction file 'prediction_val.txt' successfully created.\n"
     ]
    }
   ],
   "source": [
    "def generate_prediction_file(user_impressions, output_file=\"prediction.txt\"):\n",
    "    \"\"\"\n",
    "    Generates a prediction.txt file with ranked news for each impression.\n",
    "    \"\"\"\n",
    "    with open(output_file, \"w\") as f:\n",
    "        for impression_id, news_list in user_impressions.items():\n",
    "            news_list = [news.split(\"-\")[0] for news in news_list]\n",
    "            ranked_positions = rank_submission_format(news_list)  # Generate ranking\n",
    "            f.write(f\"{impression_id} {json.dumps(ranked_positions)}\\n\")  # Format output\n",
    "\n",
    "    print(f\"✅ Prediction file '{output_file}' successfully created.\")\n",
    "\n",
    "# Generate prediction file for validation set\n",
    "generate_prediction_file(behaviors_val.set_index('ImpressionId')['Impressions'].apply(lambda x: x.split()), output_file=\"prediction_val.txt\")\n"
   ]
  },
  {
   "cell_type": "code",
   "execution_count": 61,
   "metadata": {},
   "outputs": [
    {
     "name": "stdout",
     "output_type": "stream",
     "text": [
      "✅ Truth file 'truth_val.txt' successfully created.\n"
     ]
    }
   ],
   "source": [
    "# Generate ground truth file for validation set\n",
    "def generate_truth_file(validation_impressions, news_clicks, output_file=\"truth.txt\"):\n",
    "    \"\"\"\n",
    "    Generates a truth.txt file with ground truth click labels.\n",
    "    \"\"\"\n",
    "    with open(output_file, \"w\") as f:\n",
    "        for impression_id, news_list in validation_impressions.items():\n",
    "            labels = [int(news.split(\"-\")[1]) for news in news_list]  # Click labels\n",
    "            f.write(f\"{impression_id} {json.dumps(labels)}\\n\")  # Format output\n",
    "\n",
    "    print(f\"✅ Truth file '{output_file}' successfully created.\")\n",
    "\n",
    "generate_truth_file(behaviors_val.set_index('ImpressionId')['Impressions'].apply(lambda x: x.split()), news_clicks, output_file=\"truth_val.txt\")\n"
   ]
  }
 ],
 "metadata": {
  "kernelspec": {
   "display_name": ".venv",
   "language": "python",
   "name": "python3"
  },
  "language_info": {
   "codemirror_mode": {
    "name": "ipython",
    "version": 3
   },
   "file_extension": ".py",
   "mimetype": "text/x-python",
   "name": "python",
   "nbconvert_exporter": "python",
   "pygments_lexer": "ipython3",
   "version": "3.11.2"
  }
 },
 "nbformat": 4,
 "nbformat_minor": 2
}
